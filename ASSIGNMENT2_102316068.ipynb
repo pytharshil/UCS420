{
 "cells": [
  {
   "cell_type": "markdown",
   "metadata": {},
   "source": [
    "1. Create a List L that is defined as= [10, 20, 30, 40, 50, 60, 70, 80].\n",
    "i. WAP to add 200 and 300 to L.\n",
    "ii. WAP to remove 10 and 30 from L.\n",
    "iii. WAP to sort L in ascending order.\n",
    "iv. WAP to sort L in descending order."
   ]
  },
  {
   "cell_type": "code",
   "execution_count": 1,
   "metadata": {},
   "outputs": [
    {
     "name": "stdout",
     "output_type": "stream",
     "text": [
      "[300, 200, 80, 70, 60, 50, 40, 20]\n"
     ]
    }
   ],
   "source": [
    "L = [10,20,30,40,50,60,70,80]\n",
    "L.append(200)\n",
    "L.append(300)\n",
    "L.remove(10)\n",
    "L.remove(30)\n",
    "L.sort()\n",
    "L.sort(reverse = True)\n",
    "print(L)"
   ]
  },
  {
   "cell_type": "markdown",
   "metadata": {},
   "source": [
    "2. Create a tuple of marks scored as scores = (45, 89.5, 76, 45.4, 89, 92, 58, 45) and perform the following operations using tuple functions:\n",
    "i. Identify the highest score and its index in the tuple.\n",
    "ii. Find the lowest score and count how many times it appears.\n",
    "iii. Reverse the tuple and return it as a list.\n",
    "iv. Check if a specific score ‘76’ (input by the user) is present in the tuple and print its first occurrence index, or a message saying it’s not present."
   ]
  },
  {
   "cell_type": "code",
   "execution_count": 2,
   "metadata": {},
   "outputs": [
    {
     "name": "stdout",
     "output_type": "stream",
     "text": [
      "92\n",
      "5\n",
      "45\n",
      "0\n",
      "[45, 58, 92, 89, 45.4, 76, 89.5, 45]\n",
      "present at index 2\n"
     ]
    }
   ],
   "source": [
    "T = (45,89.5,76,45.4,89,92,58,45)\n",
    "highest = max(T)\n",
    "print(highest)\n",
    "highest_index = T.index(highest)\n",
    "print(highest_index)\n",
    "lowest = min(T)\n",
    "print(lowest)\n",
    "lowest_index = T.index(lowest)\n",
    "print(lowest_index)\n",
    "reverse_T= list(T[::-1])\n",
    "print(reverse_T)\n",
    "user = 76\n",
    "if user in T:\n",
    "    index = T.index(user)\n",
    "    print(\"present at index\",index)\n",
    "else:\n",
    "    print(\"it's not present\")    \n"
   ]
  },
  {
   "cell_type": "markdown",
   "metadata": {},
   "source": [
    "3. WAP to create a list of 100 random numbers between 100 and 900. Count and print the:\n",
    "i. All odd numbers\n",
    "ii. All even numbers\n",
    "iii. All prime numbers"
   ]
  },
  {
   "cell_type": "code",
   "execution_count": 3,
   "metadata": {},
   "outputs": [
    {
     "name": "stdout",
     "output_type": "stream",
     "text": [
      "[183, 505, 523, 741, 371, 417, 293, 617, 535, 837, 447, 613, 837, 761, 595, 413, 697, 825, 173, 233, 159, 627, 551, 463, 661, 785, 755, 571, 273, 199, 581, 383, 505, 817, 389, 617, 881, 367, 341, 537, 727, 879, 865, 339, 249, 711, 821, 889, 835]\n",
      "49\n",
      "[270, 220, 710, 478, 688, 290, 290, 224, 216, 358, 556, 224, 212, 730, 572, 600, 154, 712, 854, 660, 258, 856, 254, 772, 364, 568, 204, 830, 560, 268, 900, 148, 530, 778, 366, 120, 898, 894, 456, 480, 640, 830, 152, 264, 186, 430, 798, 784, 120, 208, 124]\n",
      "51\n",
      "[183, 505, 523, 741, 371, 417, 293, 617, 535, 837, 447, 613, 837, 761, 595, 413, 697, 825, 173, 233, 159, 627, 551, 463, 661, 785, 755, 571, 273, 199, 581, 383, 505, 817, 389, 617, 881, 367, 341, 537, 727, 879, 865, 339, 249, 711, 821, 889, 835]\n",
      "49\n"
     ]
    }
   ],
   "source": [
    "import random\n",
    "\n",
    "random_number = [random.randint(100,900) for i in range(100)]\n",
    "def is_prime(n):\n",
    "    if n<2:\n",
    "        return False\n",
    "    for i in range(2, int(n**0.5)+1):\n",
    "        if n%i==0:\n",
    "            return False\n",
    "        return True\n",
    "\n",
    "odd_num = [num for num in random_number if num%2!=0]\n",
    "print(odd_num)\n",
    "print(len(odd_num))\n",
    "even_num = [num for num in random_number if num%2==0]\n",
    "print(even_num)\n",
    "print(len(even_num))\n",
    "prime_num = [num for num in random_number if is_prime(num)]\n",
    "print(prime_num)\n",
    "print(len(prime_num))"
   ]
  },
  {
   "cell_type": "markdown",
   "metadata": {},
   "source": [
    "4. Consider the following two sets, A and B, representing scores of two teams in multiple matches. A = {34, 56, 78, 90} and B = {78, 45, 90, 23}. WAP to perform the following operations using set functions:\n",
    "i. Find the unique scores achieved by both teams (union of sets).\n",
    "ii. Identify the scores that are common to both teams (intersection of sets).\n",
    "iii. Find the scores that are exclusive to each team (symmetric difference).\n",
    "iv. Check if the scores of team A are a subset of team B, and if team B's scores are a superset of team A.\n",
    "v. Remove a specific score 𝑋 (input by the user) from set A if it exists. If not, print a message saying it is not present."
   ]
  },
  {
   "cell_type": "code",
   "execution_count": 4,
   "metadata": {},
   "outputs": [
    {
     "name": "stdout",
     "output_type": "stream",
     "text": [
      "{34, 45, 78, 23, 56, 90}\n",
      "{90, 78}\n",
      "{34, 45, 23, 56}\n",
      "False\n",
      "False\n",
      "not present in set A\n"
     ]
    }
   ],
   "source": [
    "A={34,56,78,90}\n",
    "B={78,45,90,23}\n",
    "union_score = A.union(B)\n",
    "print(union_score)\n",
    "intersection_score = A.intersection(B)\n",
    "print(intersection_score)\n",
    "symmteric_difference = A.symmetric_difference(B)\n",
    "print(symmteric_difference)\n",
    "subset = A.issubset(B)\n",
    "print(subset)\n",
    "superset = B. issuperset(A)\n",
    "print(superset)\n",
    "X = int(input(\"enter the any number:\"))\n",
    "if X in A:\n",
    "    print(\"present in set A\")\n",
    "else:\n",
    "    print(\"not present in set A\")"
   ]
  },
  {
   "cell_type": "markdown",
   "metadata": {},
   "source": [
    "5. Write a program to rename a key city to a location in the following dictionary."
   ]
  },
  {
   "cell_type": "code",
   "execution_count": 5,
   "metadata": {},
   "outputs": [
    {
     "name": "stdout",
     "output_type": "stream",
     "text": [
      "{'name': 'Kelly', 'age': 25, 'salary': 8000, 'location': 'New york'}\n"
     ]
    }
   ],
   "source": [
    "sample_dict = {\"name\": \"Kelly\", \"age\":25, \"salary\":8000, \"city\":\"New york\"}\n",
    "old_key = \"city\"\n",
    "new_key = \"location\"\n",
    "sample_dict[new_key]= sample_dict.pop(old_key)\n",
    "print(sample_dict)"
   ]
  }
 ],
 "metadata": {
  "kernelspec": {
   "display_name": "Python 3",
   "language": "python",
   "name": "python3"
  },
  "language_info": {
   "codemirror_mode": {
    "name": "ipython",
    "version": 3
   },
   "file_extension": ".py",
   "mimetype": "text/x-python",
   "name": "python",
   "nbconvert_exporter": "python",
   "pygments_lexer": "ipython3",
   "version": "3.9.13"
  }
 },
 "nbformat": 4,
 "nbformat_minor": 2
}
