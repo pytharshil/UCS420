{
 "cells": [
  {
   "cell_type": "markdown",
   "id": "0b727227-02b2-4240-b0b5-bd27410af589",
   "metadata": {},
   "source": [
    "### Q.1 Write a program to create a NumPy 1D-array with 5 elements and perform basic operations like:\n",
    "### a) Addition of 2 in all the element\n",
    "### b) Multiply 3 with all the elements\n",
    "### c) Divide every element by 2"
   ]
  },
  {
   "cell_type": "code",
   "execution_count": 1,
   "id": "c675bc45-478f-4472-b25e-cea71de7fa96",
   "metadata": {},
   "outputs": [],
   "source": [
    "import numpy as np"
   ]
  },
  {
   "cell_type": "code",
   "execution_count": 2,
   "id": "3b179b33-6a2c-4564-a88d-52f4a89b40ed",
   "metadata": {},
   "outputs": [
    {
     "name": "stdout",
     "output_type": "stream",
     "text": [
      "Array after addition: [3 4 5 6 7]\n",
      "Array after multiplication: [ 3  6  9 12 15]\n",
      "Array after division: [0.5 1.  1.5 2.  2.5]\n"
     ]
    }
   ],
   "source": [
    "arr=np.array([1,2,3,4,5])\n",
    "print(\"Array after addition:\", arr+2)\n",
    "print(\"Array after multiplication:\", arr*3)\n",
    "print(\"Array after division:\", arr/2)"
   ]
  },
  {
   "cell_type": "markdown",
   "id": "ae1dc429-fe1c-4925-ad6f-9593b835bc61",
   "metadata": {},
   "source": [
    "### Q.2 Questions on Basic NumPy Array:\n",
    "### a) Reverse the NumPy array: arr = np.array([1, 2, 3, 6, 4, 5])\n",
    "### b) Find the most frequent value and their indice(s) in the following arrays:\n",
    "### i. x = np.array([1,2,3,4,5,1,2,1,1,1])\n",
    "### ii. y = np.array([1, 1, 1, 2, 3, 4, 2, 4, 3, 3])"
   ]
  },
  {
   "cell_type": "code",
   "execution_count": 4,
   "id": "68329514-973c-49d5-96c5-b29ed8eda896",
   "metadata": {},
   "outputs": [
    {
     "name": "stdout",
     "output_type": "stream",
     "text": [
      "Reversed array [5 4 6 3 2 1]\n",
      "For array x:\n",
      "Most frequent value(s): [1]\n",
      "Indices: {np.int64(1): array([0, 5, 7, 8, 9])}\n",
      "\n",
      "For array y:\n",
      "Most frequent value(s): [1 3]\n",
      "Indices: {np.int64(1): array([0, 1, 2]), np.int64(3): array([4, 8, 9])}\n"
     ]
    }
   ],
   "source": [
    "arr = np.array([1, 2, 3, 6, 4, 5])\n",
    "arr = np.flip(arr)\n",
    "print(\"Reversed array\", arr)\n",
    "\n",
    "def most_frequent_value_and_indices(arr):\n",
    "    values, counts = np.unique(arr, return_counts=True)\n",
    "    max_count = np.max(counts)\n",
    "    most_frequent_values = values[counts == max_count]\n",
    "    indices = {val: np.where(arr == val)[0] for val in most_frequent_values}\n",
    "    return most_frequent_values, indices\n",
    "x = np.array([1,2,3,4,5,1,2,1,1,1])\n",
    "y = np.array([1, 1, 1, 2, 3, 4, 2, 4, 3, 3])\n",
    "x_values, x_indices = most_frequent_value_and_indices(x)\n",
    "y_values, y_indices = most_frequent_value_and_indices(y)\n",
    "print(\"For array x:\")\n",
    "print(f\"Most frequent value(s): {x_values}\")\n",
    "print(f\"Indices: {x_indices}\")\n",
    "print(\"\\nFor array y:\")\n",
    "print(f\"Most frequent value(s): {y_values}\")\n",
    "print(f\"Indices: {y_indices}\")"
   ]
  },
  {
   "cell_type": "markdown",
   "id": "70cef759-f75d-4bcb-ad3e-61476b42064c",
   "metadata": {},
   "source": [
    "### Q.3 For the given 2-D array arr=np.array([10, 20, 30], [40, 50, 60], [70, 80, 90]), access elements using row and column indices as follows: \n",
    "### a) Access 1st row, 2nd column \n",
    "### b) Access 3rd row, 1st column "
   ]
  },
  {
   "cell_type": "code",
   "execution_count": 13,
   "id": "894d5074-ebbe-4255-88b4-04e118043b07",
   "metadata": {},
   "outputs": [
    {
     "name": "stdout",
     "output_type": "stream",
     "text": [
      "20\n",
      "70\n"
     ]
    }
   ],
   "source": [
    "arr=np.array([[10,20,30],[40,50,60],[70,80,90]])\n",
    "print(arr[0,1])\n",
    "print(arr[2,0])"
   ]
  },
  {
   "cell_type": "markdown",
   "id": "18076c8e-d5ac-47c9-9d16-c19b10ba9b15",
   "metadata": {},
   "source": [
    "### Q.4 Write program to create an 1-D NumPy array named <<Your Name>> with evenly spaced 25 numbers from 10 to 100 using linspace(). Print the dimensions of the array, shape, total elements, the data type of each element and total number of bytes consumed by the array. Find the transpose of this array using reshape() attribute. Can we do the same with T attribute? "
   ]
  },
  {
   "cell_type": "code",
   "execution_count": 16,
   "id": "45970103-fa5b-4c1b-9c86-99f721995488",
   "metadata": {},
   "outputs": [
    {
     "name": "stdout",
     "output_type": "stream",
     "text": [
      "Original Array:\n",
      " [ 10.    13.75  17.5   21.25  25.    28.75  32.5   36.25  40.    43.75\n",
      "  47.5   51.25  55.    58.75  62.5   66.25  70.    73.75  77.5   81.25\n",
      "  85.    88.75  92.5   96.25 100.  ]\n",
      "\n",
      "Array Properties:\n",
      "Dimensions: 1\n",
      "Shape: (25,)\n",
      "Total elements: 25\n",
      "Data type: float64\n",
      "Total bytes consumed: 200\n",
      "\n",
      "Transposed array using reshape():\n",
      " [[ 10.  ]\n",
      " [ 13.75]\n",
      " [ 17.5 ]\n",
      " [ 21.25]\n",
      " [ 25.  ]\n",
      " [ 28.75]\n",
      " [ 32.5 ]\n",
      " [ 36.25]\n",
      " [ 40.  ]\n",
      " [ 43.75]\n",
      " [ 47.5 ]\n",
      " [ 51.25]\n",
      " [ 55.  ]\n",
      " [ 58.75]\n",
      " [ 62.5 ]\n",
      " [ 66.25]\n",
      " [ 70.  ]\n",
      " [ 73.75]\n",
      " [ 77.5 ]\n",
      " [ 81.25]\n",
      " [ 85.  ]\n",
      " [ 88.75]\n",
      " [ 92.5 ]\n",
      " [ 96.25]\n",
      " [100.  ]]\n",
      "\n",
      "Using T attribute:\n",
      " [ 10.    13.75  17.5   21.25  25.    28.75  32.5   36.25  40.    43.75\n",
      "  47.5   51.25  55.    58.75  62.5   66.25  70.    73.75  77.5   81.25\n",
      "  85.    88.75  92.5   96.25 100.  ]\n"
     ]
    }
   ],
   "source": [
    "my_array = np.linspace(10, 100, 25)\n",
    "print(\"Original Array:\\n\", my_array)\n",
    "print(\"\\nArray Properties:\")\n",
    "print(f\"Dimensions: {my_array.ndim}\")\n",
    "print(f\"Shape: {my_array.shape}\")\n",
    "print(f\"Total elements: {my_array.size}\")\n",
    "print(f\"Data type: {my_array.dtype}\")\n",
    "print(f\"Total bytes consumed: {my_array.nbytes}\")\n",
    "transposed_array = my_array.reshape(25, 1)\n",
    "print(\"\\nTransposed array using reshape():\\n\", transposed_array)\n",
    "print(\"\\nUsing T attribute:\\n\", my_array.T)"
   ]
  },
  {
   "cell_type": "markdown",
   "id": "e6b41135-817f-40b5-837a-ae9c4a63c93b",
   "metadata": {},
   "source": [
    "### Q5. Create a 2-D Array of three rows and four columns, named ucs420_<your_name>> with following values – 10, 20, 30, 40, 50, 60, 70, 80, 90, 15, 20, 35. Compute the mean, median, max, min, unique elements. Reshape the array to four rows and three columns and name it as reshaped_ ucs420_<your_name>>. Resize the array to two rows and three columns and name it as resized_ ucs420_<your_name>>."
   ]
  },
  {
   "cell_type": "code",
   "execution_count": 2,
   "id": "8a893d39",
   "metadata": {},
   "outputs": [],
   "source": [
    "import numpy as np"
   ]
  },
  {
   "cell_type": "code",
   "execution_count": 3,
   "id": "6e2bd4f4-e91e-470f-b707-96256833e082",
   "metadata": {},
   "outputs": [
    {
     "name": "stdout",
     "output_type": "stream",
     "text": [
      "Original 2D Array (3x4):\n",
      " [[10 20 30 40]\n",
      " [50 60 70 80]\n",
      " [90 15 20 35]]\n",
      "\n",
      "Mean: 43.333333333333336\n",
      "Median: 37.5\n",
      "Max: 90\n",
      "Min: 10\n",
      "Unique Elements: [10 15 20 30 35 40 50 60 70 80 90]\n",
      "\n",
      "Reshaped Array (4x3):\n",
      " [[10 20 30]\n",
      " [40 50 60]\n",
      " [70 80 90]\n",
      " [15 20 35]]\n",
      "\n",
      "Resized Array (2x3):\n",
      " [[10 20 30]\n",
      " [40 50 60]]\n"
     ]
    }
   ],
   "source": [
    "ucs420_array = np.array([[10, 20, 30, 40], \n",
    "                         [50, 60, 70, 80], \n",
    "                         [90, 15, 20, 35]])\n",
    "mean_value = np.mean(ucs420_array)\n",
    "median_value = np.median(ucs420_array)\n",
    "max_value = np.max(ucs420_array)\n",
    "min_value = np.min(ucs420_array)\n",
    "unique_elements = np.unique(ucs420_array)\n",
    "reshaped_ucs420_NIDHI = ucs420_array.reshape(4, 3)\n",
    "resized_ucs420_NIDHI = np.resize(ucs420_array, (2, 3))\n",
    "print(\"Original 2D Array (3x4):\\n\", ucs420_array)\n",
    "print(\"\\nMean:\", mean_value)\n",
    "print(\"Median:\", median_value)\n",
    "print(\"Max:\", max_value)\n",
    "print(\"Min:\", min_value)\n",
    "print(\"Unique Elements:\", unique_elements)\n",
    "print(\"\\nReshaped Array (4x3):\\n\", reshaped_ucs420_NIDHI)\n",
    "print(\"\\nResized Array (2x3):\\n\", resized_ucs420_NIDHI)"
   ]
  },
  {
   "cell_type": "code",
   "execution_count": null,
   "id": "176e4cf8-79e0-4292-8c45-61612b18d11b",
   "metadata": {},
   "outputs": [],
   "source": []
  }
 ],
 "metadata": {
  "kernelspec": {
   "display_name": "Python 3",
   "language": "python",
   "name": "python3"
  },
  "language_info": {
   "codemirror_mode": {
    "name": "ipython",
    "version": 3
   },
   "file_extension": ".py",
   "mimetype": "text/x-python",
   "name": "python",
   "nbconvert_exporter": "python",
   "pygments_lexer": "ipython3",
   "version": "3.9.13"
  }
 },
 "nbformat": 4,
 "nbformat_minor": 5
}
